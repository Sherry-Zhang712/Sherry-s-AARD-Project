{
 "cells": [
  {
   "cell_type": "code",
   "execution_count": 2,
   "id": "08244194-0467-43c9-8243-f0f2636ac3f1",
   "metadata": {},
   "outputs": [
    {
     "name": "stdout",
     "output_type": "stream",
     "text": [
      "Fitting 3 folds for each of 100 candidates, totalling 300 fits\n",
      "Best parameters found:  {'var_smoothing': 5.336699231206302e-08}\n",
      "Accuracy: 0.7589604874889043\n",
      "Precision: 0.7583329325188783\n",
      "Recall: 0.7583967675601573\n",
      "F1 Score: 0.7583648486961959\n",
      "Confusion Matrix: \n",
      "[[63477 20098]\n",
      " [20091 63066]]\n"
     ]
    }
   ],
   "source": [
    "import os\n",
    "import subprocess\n",
    "\n",
    "def install(package):\n",
    "    subprocess.run(f'pip install {package}', shell=True, stdout=subprocess.DEVNULL, stderr=subprocess.DEVNULL)\n",
    "\n",
    "install('--upgrade pip setuptools wheel')\n",
    "install('cython')\n",
    "install('pyyaml')\n",
    "install('scipy')\n",
    "install('scikit-learn')\n",
    "\n",
    "import pandas as pd\n",
    "import numpy as np\n",
    "import matplotlib.pyplot as plt\n",
    "from sklearn.model_selection import train_test_split, GridSearchCV\n",
    "from sklearn.metrics import accuracy_score, precision_score, recall_score, f1_score, confusion_matrix\n",
    "from sklearn.naive_bayes import GaussianNB\n",
    "\n",
    "file_path = '/Users/sherryzhang/Downloads/Final_Balanced_Data.csv'\n",
    "data = pd.read_csv(file_path)\n",
    "\n",
    "poverty_threshold = 13590\n",
    "data['poverty_status'] = np.where(data['PINCP'] <= poverty_threshold, 1, 0)\n",
    "\n",
    "data = data.drop(columns=['PINCP'])\n",
    "\n",
    "X = data.drop(columns=['poverty_status'])\n",
    "Y = data['poverty_status']\n",
    "\n",
    "X_train, X_test, Y_train, Y_test = train_test_split(X, Y, test_size=0.2, random_state=18)\n",
    "\n",
    "naive_bayes_model = GaussianNB()\n",
    "\n",
    "param_grid = {\n",
    "    'var_smoothing': np.logspace(0, -9, num=100)\n",
    "}\n",
    "\n",
    "grid_search = GridSearchCV(estimator=naive_bayes_model, param_grid=param_grid, cv=3, verbose=1, n_jobs=-1, scoring='accuracy')\n",
    "grid_search.fit(X_train, Y_train)\n",
    "\n",
    "best_naive_bayes_model = grid_search.best_estimator_\n",
    "\n",
    "print(\"Best parameters found: \", grid_search.best_params_)\n",
    "\n",
    "predictions = best_naive_bayes_model.predict(X_test)\n",
    "\n",
    "accuracy = accuracy_score(Y_test, predictions)\n",
    "precision = precision_score(Y_test, predictions)\n",
    "recall = recall_score(Y_test, predictions)\n",
    "f1 = f1_score(Y_test, predictions)\n",
    "conf_matrix = confusion_matrix(Y_test, predictions)\n",
    "\n",
    "print(f\"Accuracy: {accuracy}\")\n",
    "print(f\"Precision: {precision}\")\n",
    "print(f\"Recall: {recall}\")\n",
    "print(f\"F1 Score: {f1}\")\n",
    "print(f\"Confusion Matrix: \\n{conf_matrix}\")"
   ]
  }
 ],
 "metadata": {
  "kernelspec": {
   "display_name": "Python 3 (ipykernel)",
   "language": "python",
   "name": "python3"
  },
  "language_info": {
   "codemirror_mode": {
    "name": "ipython",
    "version": 3
   },
   "file_extension": ".py",
   "mimetype": "text/x-python",
   "name": "python",
   "nbconvert_exporter": "python",
   "pygments_lexer": "ipython3",
   "version": "3.11.9"
  }
 },
 "nbformat": 4,
 "nbformat_minor": 5
}

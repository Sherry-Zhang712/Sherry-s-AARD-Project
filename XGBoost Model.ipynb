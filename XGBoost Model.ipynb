{
 "cells": [
  {
   "cell_type": "code",
   "execution_count": 1,
   "id": "36ff1497-3558-450b-a81d-7982ddd1f46c",
   "metadata": {
    "scrolled": true
   },
   "outputs": [
    {
     "name": "stdout",
     "output_type": "stream",
     "text": [
      "Requirement already satisfied: xgboost in /home/innobridge/anaconda3/lib/python3.12/site-packages (2.1.0)\n",
      "Requirement already satisfied: numpy in /home/innobridge/anaconda3/lib/python3.12/site-packages (from xgboost) (1.26.0)\n",
      "Requirement already satisfied: nvidia-nccl-cu12 in /home/innobridge/anaconda3/lib/python3.12/site-packages (from xgboost) (2.22.3)\n",
      "Requirement already satisfied: scipy in /home/innobridge/anaconda3/lib/python3.12/site-packages (from xgboost) (1.13.1)\n",
      "\n",
      "\u001b[1m[\u001b[0m\u001b[34;49mnotice\u001b[0m\u001b[1;39;49m]\u001b[0m\u001b[39;49m A new release of pip is available: \u001b[0m\u001b[31;49m24.1.1\u001b[0m\u001b[39;49m -> \u001b[0m\u001b[32;49m24.2\u001b[0m\n",
      "\u001b[1m[\u001b[0m\u001b[34;49mnotice\u001b[0m\u001b[1;39;49m]\u001b[0m\u001b[39;49m To update, run: \u001b[0m\u001b[32;49mpip3.12 install --upgrade pip\u001b[0m\n",
      "Note: you may need to restart the kernel to use updated packages.\n"
     ]
    }
   ],
   "source": [
    "%pip install xgboost"
   ]
  },
  {
   "cell_type": "code",
   "execution_count": 2,
   "id": "91dcbb27-160a-4756-b009-47a52eaf655b",
   "metadata": {},
   "outputs": [
    {
     "name": "stdout",
     "output_type": "stream",
     "text": [
      "XGBoost imported successfully!\n"
     ]
    }
   ],
   "source": [
    "import xgboost as xgb\n",
    "print(\"XGBoost imported successfully!\")"
   ]
  },
  {
   "cell_type": "code",
   "execution_count": 90,
   "id": "0137d7e4-3507-48c8-b209-7fabc9e5f5cc",
   "metadata": {},
   "outputs": [
    {
     "name": "stdout",
     "output_type": "stream",
     "text": [
      "/home/innobridge/anaconda3/bin/python\n",
      "Fitting 3 folds for each of 48 candidates, totalling 144 fits\n",
      "Best parameters found:  {'colsample_bylevel': 1.0, 'colsample_bynode': 1.0, 'colsample_bytree': 0.6, 'gamma': 0, 'learning_rate': 0.1, 'max_delta_step': 0, 'max_depth': 8, 'min_child_weight': 2, 'n_estimators': 500, 'reg_alpha': 10, 'reg_lambda': 1, 'scale_pos_weight': 1, 'subsample': 1.0}\n",
      "Accuracy: 0.8158421898615743\n",
      "Precision: 0.830718789407314\n",
      "Recall: 0.7921882703801243\n",
      "F1 Score: 0.810996140517183\n",
      "Confusion Matrix: \n",
      "[[70151 13424]\n",
      " [17281 65876]]\n"
     ]
    }
   ],
   "source": [
    "import sys\n",
    "print(sys.executable)\n",
    "\n",
    "import pandas as pd\n",
    "import numpy as np\n",
    "import matplotlib.pyplot as plt\n",
    "from sklearn.model_selection import train_test_split, GridSearchCV\n",
    "from sklearn.metrics import accuracy_score, precision_score, recall_score, f1_score, confusion_matrix\n",
    "import xgboost as xgb\n",
    "import warnings\n",
    "\n",
    "# Suppress specific warnings from xgboost\n",
    "warnings.filterwarnings(action='ignore', category=UserWarning, message='.*gpu_id.*')\n",
    "warnings.filterwarnings(action='ignore', category=UserWarning, message='.*gpu_hist.*')\n",
    "\n",
    "# Load data\n",
    "file_path = r\"/home/innobridge/sherry/Final_Balanced_Data.csv\"\n",
    "data = pd.read_csv(file_path)\n",
    "\n",
    "# Define poverty threshold and create target variable\n",
    "poverty_threshold = 13590\n",
    "data['poverty_status'] = np.where(data['PINCP'] <= poverty_threshold, 1, 0)\n",
    "\n",
    "# Drop the PINCP column\n",
    "data = data.drop(columns=['PINCP'])\n",
    "\n",
    "# Split data into features and target\n",
    "X = data.drop(columns=['poverty_status'])\n",
    "Y = data['poverty_status']\n",
    "\n",
    "# Split data into training and testing sets\n",
    "X_train, X_test, Y_train, Y_test = train_test_split(X, Y, test_size=0.2, random_state=18)\n",
    "\n",
    "# Define parameter grid for GridSearchCV\n",
    "param_grid = {\n",
    "    'n_estimators': [100, 200, 500, 800],             \n",
    "    'max_depth': [7, 8, 9],   \n",
    "    'learning_rate': [0.1, 0.2],   \n",
    "    'min_child_weight': [2, 3],\n",
    "  'gamma': [0], \n",
    "    'subsample': [1.0],\n",
    "    'colsample_bytree': [0.6],\n",
    "    'colsample_bylevel': [1.0],\n",
    "    'colsample_bynode': [1.0],\n",
    "   'reg_alpha': [10],\n",
    "    'reg_lambda': [1],\n",
    "    'max_delta_step': [0],\n",
    "    'scale_pos_weight': [1]\n",
    "}\n",
    "\n",
    "# Initialize XGBoost classifier without use_label_encoder, using GPU\n",
    "xgb_model = xgb.XGBClassifier(random_state=18, eval_metric='logloss')\n",
    "\n",
    "# Perform grid search\n",
    "grid_search = GridSearchCV(estimator=xgb_model, param_grid=param_grid, scoring='accuracy', cv=3, verbose=1, n_jobs=-1)\n",
    "grid_search.fit(X_train, Y_train)\n",
    "\n",
    "# Get the best model\n",
    "best_xgb_model = grid_search.best_estimator_\n",
    "print(\"Best parameters found: \", grid_search.best_params_)\n",
    "\n",
    "# Make predictions with the best model\n",
    "predictions = best_xgb_model.predict(X_test)\n",
    "\n",
    "# Calculate evaluation metrics\n",
    "accuracy = accuracy_score(Y_test, predictions)\n",
    "precision = precision_score(Y_test, predictions)\n",
    "recall = recall_score(Y_test, predictions)\n",
    "f1 = f1_score(Y_test, predictions)\n",
    "conf_matrix = confusion_matrix(Y_test, predictions)\n",
    "\n",
    "# Print evaluation metrics\n",
    "print(f\"Accuracy: {accuracy}\")\n",
    "print(f\"Precision: {precision}\")\n",
    "print(f\"Recall: {recall}\")\n",
    "print(f\"F1 Score: {f1}\")\n",
    "print(f\"Confusion Matrix: \\n{conf_matrix}\")"
   ]
  },
  {
   "cell_type": "code",
   "execution_count": null,
   "id": "08c2dc80-823e-4397-a3e3-702b6319a8f4",
   "metadata": {},
   "outputs": [],
   "source": []
  }
 ],
 "metadata": {
  "kernelspec": {
   "display_name": "Python 3 (ipykernel)",
   "language": "python",
   "name": "python3"
  },
  "language_info": {
   "codemirror_mode": {
    "name": "ipython",
    "version": 3
   },
   "file_extension": ".py",
   "mimetype": "text/x-python",
   "name": "python",
   "nbconvert_exporter": "python",
   "pygments_lexer": "ipython3",
   "version": "3.12.4"
  }
 },
 "nbformat": 4,
 "nbformat_minor": 5
}
